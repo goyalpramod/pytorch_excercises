{
 "cells": [
  {
   "cell_type": "code",
   "execution_count": 1,
   "id": "b71e1e38-8b31-4bb3-81ec-368c4126095f",
   "metadata": {},
   "outputs": [],
   "source": [
    "import torch"
   ]
  },
  {
   "cell_type": "markdown",
   "id": "1892afc9-4213-4b13-9b56-db9d87e72e3a",
   "metadata": {},
   "source": [
    "1 Create a tensor a from list(range(9)). Predict and then check the size, offset,\n",
    "and stride. \n",
    "\n",
    "a Create a new tensor using b = a.view(3, 3). What does view do? Check\n",
    "that a and b share the same storage. \\\n",
    "b Create a tensor c = b[1:,1:]. Predict and then check the size, offset, and\n",
    "stride.\n",
    "\n",
    "2 Pick a mathematical operation like cosine or square root. Can you find a corresponding function in the torch library?\n",
    "\n",
    "a Apply the function element-wise to a. Why does it return an error? \\\n",
    "b What operation is required to make the function work?\\\n",
    "c Is there a version of your function that operates in place?"
   ]
  },
  {
   "cell_type": "code",
   "execution_count": 3,
   "id": "c58f47bb-229c-4d27-a864-b187b2a42644",
   "metadata": {},
   "outputs": [],
   "source": [
    "#1.\n",
    "\n",
    "list_ = list(range(9))\n",
    "tensor_ = torch.tensor(list_)"
   ]
  },
  {
   "cell_type": "code",
   "execution_count": 5,
   "id": "0c631df8-2094-4a05-8bfc-b9c7deaa65e6",
   "metadata": {},
   "outputs": [
    {
     "data": {
      "text/plain": [
       "(torch.Size([9]), 0, (1,))"
      ]
     },
     "execution_count": 5,
     "metadata": {},
     "output_type": "execute_result"
    }
   ],
   "source": [
    "tensor_.size(), tensor_.storage_offset(), tensor_.stride()"
   ]
  },
  {
   "cell_type": "code",
   "execution_count": 7,
   "id": "4d14c4c5-1ff9-450e-b5ac-3d010c93c278",
   "metadata": {},
   "outputs": [],
   "source": [
    "#1.a \n",
    "\n",
    "b = tensor_.view(3,3)"
   ]
  },
  {
   "cell_type": "code",
   "execution_count": 8,
   "id": "96db2a4a-63ea-4d7b-ac3c-5f8ed7881095",
   "metadata": {},
   "outputs": [
    {
     "data": {
      "text/plain": [
       "(torch.Size([3, 3]), 0, (3, 1))"
      ]
     },
     "execution_count": 8,
     "metadata": {},
     "output_type": "execute_result"
    }
   ],
   "source": [
    "b.size(), b.storage_offset(), b.stride()"
   ]
  },
  {
   "cell_type": "code",
   "execution_count": 14,
   "id": "6ed43b4f-6793-4883-9411-b612c1927711",
   "metadata": {},
   "outputs": [
    {
     "data": {
      "text/plain": [
       "False"
      ]
     },
     "execution_count": 14,
     "metadata": {},
     "output_type": "execute_result"
    }
   ],
   "source": [
    "b.storage() is tensor_.storage()"
   ]
  },
  {
   "cell_type": "code",
   "execution_count": 12,
   "id": "81722d85-2110-4a75-9450-4f180df24f37",
   "metadata": {},
   "outputs": [
    {
     "data": {
      "text/plain": [
       " 0\n",
       " 1\n",
       " 2\n",
       " 3\n",
       " 4\n",
       " 5\n",
       " 6\n",
       " 7\n",
       " 8\n",
       "[torch.storage.TypedStorage(dtype=torch.int64, device=cpu) of size 9]"
      ]
     },
     "execution_count": 12,
     "metadata": {},
     "output_type": "execute_result"
    }
   ],
   "source": [
    "b.storage()"
   ]
  },
  {
   "cell_type": "code",
   "execution_count": 13,
   "id": "03f46e99-f4a1-43ff-8284-5ed9eda8be7a",
   "metadata": {},
   "outputs": [
    {
     "data": {
      "text/plain": [
       " 0\n",
       " 1\n",
       " 2\n",
       " 3\n",
       " 4\n",
       " 5\n",
       " 6\n",
       " 7\n",
       " 8\n",
       "[torch.storage.TypedStorage(dtype=torch.int64, device=cpu) of size 9]"
      ]
     },
     "execution_count": 13,
     "metadata": {},
     "output_type": "execute_result"
    }
   ],
   "source": [
    "tensor_.storage()"
   ]
  },
  {
   "cell_type": "code",
   "execution_count": 15,
   "id": "2b813b22-a36b-43c2-8709-2c6cc72d134f",
   "metadata": {},
   "outputs": [],
   "source": [
    "c = b[1:,1:]"
   ]
  },
  {
   "cell_type": "code",
   "execution_count": 16,
   "id": "71dd5246-405a-491c-b163-c1b1c01c1fd1",
   "metadata": {},
   "outputs": [
    {
     "data": {
      "text/plain": [
       "(torch.Size([2, 2]), 4, (3, 1))"
      ]
     },
     "execution_count": 16,
     "metadata": {},
     "output_type": "execute_result"
    }
   ],
   "source": [
    "c.size(), c.storage_offset(), c.stride()"
   ]
  },
  {
   "cell_type": "code",
   "execution_count": 18,
   "id": "7404afb4-604b-4c6d-b1ab-146119f65153",
   "metadata": {},
   "outputs": [
    {
     "name": "stdout",
     "output_type": "stream",
     "text": [
      "tensor([[ 1.0000,  0.5403, -0.4161],\n",
      "        [-0.9900, -0.6536,  0.2837],\n",
      "        [ 0.9602,  0.7539, -0.1455]])\n"
     ]
    }
   ],
   "source": [
    "print(torch.cos(b))"
   ]
  },
  {
   "cell_type": "code",
   "execution_count": 22,
   "id": "198e9369-80ff-44a6-871b-e42ef40887e4",
   "metadata": {},
   "outputs": [
    {
     "name": "stdout",
     "output_type": "stream",
     "text": [
      "tensor([ 1.0000,  0.5403, -0.4161, -0.9900, -0.6536,  0.2837,  0.9602,  0.7539,\n",
      "        -0.1455])\n",
      "tensor([ 1.0000,  0.5403, -0.4161, -0.9900, -0.6536,  0.2837,  0.9602,  0.7539,\n",
      "        -0.1455])\n",
      "tensor([ 1.0000,  0.5403, -0.4161, -0.9900, -0.6536,  0.2837,  0.9602,  0.7539,\n",
      "        -0.1455])\n",
      "tensor([ 1.0000,  0.5403, -0.4161, -0.9900, -0.6536,  0.2837,  0.9602,  0.7539,\n",
      "        -0.1455])\n",
      "tensor([ 1.0000,  0.5403, -0.4161, -0.9900, -0.6536,  0.2837,  0.9602,  0.7539,\n",
      "        -0.1455])\n",
      "tensor([ 1.0000,  0.5403, -0.4161, -0.9900, -0.6536,  0.2837,  0.9602,  0.7539,\n",
      "        -0.1455])\n",
      "tensor([ 1.0000,  0.5403, -0.4161, -0.9900, -0.6536,  0.2837,  0.9602,  0.7539,\n",
      "        -0.1455])\n",
      "tensor([ 1.0000,  0.5403, -0.4161, -0.9900, -0.6536,  0.2837,  0.9602,  0.7539,\n",
      "        -0.1455])\n",
      "tensor([ 1.0000,  0.5403, -0.4161, -0.9900, -0.6536,  0.2837,  0.9602,  0.7539,\n",
      "        -0.1455])\n"
     ]
    }
   ],
   "source": [
    "for i in tensor_:\n",
    "    print(torch.cos(tensor_))"
   ]
  },
  {
   "cell_type": "code",
   "execution_count": null,
   "id": "65a3938a-cd48-4934-af5d-dee95ec3a111",
   "metadata": {},
   "outputs": [],
   "source": []
  }
 ],
 "metadata": {
  "kernelspec": {
   "display_name": "Python 3 (ipykernel)",
   "language": "python",
   "name": "python3"
  },
  "language_info": {
   "codemirror_mode": {
    "name": "ipython",
    "version": 3
   },
   "file_extension": ".py",
   "mimetype": "text/x-python",
   "name": "python",
   "nbconvert_exporter": "python",
   "pygments_lexer": "ipython3",
   "version": "3.11.4"
  }
 },
 "nbformat": 4,
 "nbformat_minor": 5
}
