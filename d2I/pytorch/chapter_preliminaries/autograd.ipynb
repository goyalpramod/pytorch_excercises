{
 "cells": [
  {
   "cell_type": "markdown",
   "id": "2c943f6e",
   "metadata": {
    "origin_pos": 1
   },
   "source": [
    "# Automatic Differentiation\n",
    ":label:`sec_autograd`\n",
    "\n",
    "Recall from :numref:`sec_calculus` \n",
    "that calculating derivatives is the crucial step\n",
    "in all the optimization algorithms\n",
    "that we will use to train deep networks.\n",
    "While the calculations are straightforward,\n",
    "working them out by hand can be tedious and error-prone, \n",
    "and these issues only grow\n",
    "as our models become more complex.\n",
    "\n",
    "Fortunately all modern deep learning frameworks\n",
    "take this work off our plates\n",
    "by offering *automatic differentiation*\n",
    "(often shortened to *autograd*). \n",
    "As we pass data through each successive function,\n",
    "the framework builds a *computational graph* \n",
    "that tracks how each value depends on others.\n",
    "To calculate derivatives, \n",
    "automatic differentiation \n",
    "works backwards through this graph\n",
    "applying the chain rule. \n",
    "The computational algorithm for applying the chain rule\n",
    "in this fashion is called *backpropagation*.\n",
    "\n",
    "While autograd libraries have become\n",
    "a hot concern over the past decade,\n",
    "they have a long history. \n",
    "In fact the earliest references to autograd\n",
    "date back over half of a century :cite:`Wengert.1964`.\n",
    "The core ideas behind modern backpropagation\n",
    "date to a PhD thesis from 1980 :cite:`Speelpenning.1980`\n",
    "and were further developed in the late 1980s :cite:`Griewank.1989`.\n",
    "While backpropagation has become the default method \n",
    "for computing gradients, it is not the only option. \n",
    "For instance, the Julia programming language employs \n",
    "forward propagation :cite:`Revels.Lubin.Papamarkou.2016`. \n",
    "Before exploring methods, \n",
    "let's first master the autograd package.\n"
   ]
  },
  {
   "cell_type": "code",
   "execution_count": 1,
   "id": "8cfd4b8d",
   "metadata": {
    "origin_pos": 3,
    "tab": [
     "pytorch"
    ]
   },
   "outputs": [],
   "source": [
    "import torch"
   ]
  },
  {
   "cell_type": "markdown",
   "id": "1777ca49",
   "metadata": {
    "origin_pos": 6
   },
   "source": [
    "## A Simple Function\n",
    "\n",
    "Let's assume that we are interested\n",
    "in (**differentiating the function\n",
    "$y = 2\\mathbf{x}^{\\top}\\mathbf{x}$\n",
    "with respect to the column vector $\\mathbf{x}$.**)\n",
    "To start, we assign `x` an initial value.\n"
   ]
  },
  {
   "cell_type": "code",
   "execution_count": 2,
   "id": "294aee12",
   "metadata": {
    "attributes": {
     "classes": [],
     "id": "",
     "n": "7"
    },
    "origin_pos": 8,
    "tab": [
     "pytorch"
    ]
   },
   "outputs": [
    {
     "data": {
      "text/plain": [
       "tensor([0., 1., 2., 3.])"
      ]
     },
     "execution_count": 2,
     "metadata": {},
     "output_type": "execute_result"
    }
   ],
   "source": [
    "x = torch.arange(4.0)\n",
    "x"
   ]
  },
  {
   "cell_type": "markdown",
   "id": "2c8e7249",
   "metadata": {
    "origin_pos": 11,
    "tab": [
     "pytorch"
    ]
   },
   "source": [
    "[**Before we calculate the gradient\n",
    "of $y$ with respect to $\\mathbf{x}$,\n",
    "we need a place to store it.**]\n",
    "In general, we avoid allocating new memory\n",
    "every time we take a derivative \n",
    "because deep learning requires \n",
    "successively computing derivatives\n",
    "with respect to the same parameters\n",
    "a great many times,\n",
    "and we might risk running out of memory.\n",
    "Note that the gradient of a scalar-valued function\n",
    "with respect to a vector $\\mathbf{x}$\n",
    "is vector-valued with \n",
    "the same shape as $\\mathbf{x}$.\n"
   ]
  },
  {
   "cell_type": "code",
   "execution_count": 3,
   "id": "d09b5cd9",
   "metadata": {
    "attributes": {
     "classes": [],
     "id": "",
     "n": "9"
    },
    "origin_pos": 13,
    "tab": [
     "pytorch"
    ]
   },
   "outputs": [],
   "source": [
    "# Can also create x = torch.arange(4.0, requires_grad=True)\n",
    "x.requires_grad_(True)\n",
    "x.grad  # The gradient is None by default"
   ]
  },
  {
   "cell_type": "markdown",
   "id": "86d922a8",
   "metadata": {
    "origin_pos": 15
   },
   "source": [
    "(**We now calculate our function of `x` and assign the result to `y`.**)\n"
   ]
  },
  {
   "cell_type": "code",
   "execution_count": 4,
   "id": "4081649d",
   "metadata": {
    "attributes": {
     "classes": [],
     "id": "",
     "n": "11"
    },
    "origin_pos": 17,
    "tab": [
     "pytorch"
    ]
   },
   "outputs": [
    {
     "data": {
      "text/plain": [
       "tensor(28., grad_fn=<MulBackward0>)"
      ]
     },
     "execution_count": 4,
     "metadata": {},
     "output_type": "execute_result"
    }
   ],
   "source": [
    "y = 2 * torch.dot(x, x)\n",
    "y"
   ]
  },
  {
   "cell_type": "markdown",
   "id": "78b8745f",
   "metadata": {
    "origin_pos": 21,
    "tab": [
     "pytorch"
    ]
   },
   "source": [
    "[**We can now take the gradient of `y`\n",
    "with respect to `x`**] by calling \n",
    "its `backward` method.\n",
    "Next, we can access the gradient \n",
    "via `x`'s `grad` attribute.\n"
   ]
  },
  {
   "cell_type": "code",
   "execution_count": 5,
   "id": "34612969",
   "metadata": {
    "attributes": {
     "classes": [],
     "id": "",
     "n": "12"
    },
    "origin_pos": 25,
    "tab": [
     "pytorch"
    ]
   },
   "outputs": [
    {
     "data": {
      "text/plain": [
       "tensor([ 0.,  4.,  8., 12.])"
      ]
     },
     "execution_count": 5,
     "metadata": {},
     "output_type": "execute_result"
    }
   ],
   "source": [
    "y.backward()\n",
    "x.grad"
   ]
  },
  {
   "cell_type": "markdown",
   "id": "a2f0ccfb",
   "metadata": {
    "origin_pos": 28
   },
   "source": [
    "(**We already know that the gradient of the function $y = 2\\mathbf{x}^{\\top}\\mathbf{x}$\n",
    "with respect to $\\mathbf{x}$ should be $4\\mathbf{x}$.**)\n",
    "We can now verify that the automatic gradient computation\n",
    "and the expected result are identical.\n"
   ]
  },
  {
   "cell_type": "code",
   "execution_count": 6,
   "id": "5628a103",
   "metadata": {
    "attributes": {
     "classes": [],
     "id": "",
     "n": "14"
    },
    "origin_pos": 30,
    "tab": [
     "pytorch"
    ]
   },
   "outputs": [
    {
     "data": {
      "text/plain": [
       "tensor([True, True, True, True])"
      ]
     },
     "execution_count": 6,
     "metadata": {},
     "output_type": "execute_result"
    }
   ],
   "source": [
    "x.grad == 4 * x"
   ]
  },
  {
   "cell_type": "markdown",
   "id": "1d22517d",
   "metadata": {
    "origin_pos": 34,
    "tab": [
     "pytorch"
    ]
   },
   "source": [
    "[**Now let's calculate \n",
    "another function of `x`\n",
    "and take its gradient.**]\n",
    "Note that PyTorch does not automatically \n",
    "reset the gradient buffer \n",
    "when we record a new gradient. \n",
    "Instead, the new gradient\n",
    "is added to the already-stored gradient.\n",
    "This behavior comes in handy\n",
    "when we want to optimize the sum \n",
    "of multiple objective functions.\n",
    "To reset the gradient buffer,\n",
    "we can call `x.grad.zero_()` as follows:\n"
   ]
  },
  {
   "cell_type": "code",
   "execution_count": 7,
   "id": "bf60d911",
   "metadata": {
    "attributes": {
     "classes": [],
     "id": "",
     "n": "20"
    },
    "origin_pos": 37,
    "tab": [
     "pytorch"
    ]
   },
   "outputs": [
    {
     "data": {
      "text/plain": [
       "tensor([1., 1., 1., 1.])"
      ]
     },
     "execution_count": 7,
     "metadata": {},
     "output_type": "execute_result"
    }
   ],
   "source": [
    "x.grad.zero_()  # Reset the gradient\n",
    "y = x.sum()\n",
    "y.backward()\n",
    "x.grad"
   ]
  },
  {
   "cell_type": "markdown",
   "id": "6cbe7e6c",
   "metadata": {
    "origin_pos": 40
   },
   "source": [
    "## Backward for Non-Scalar Variables\n",
    "\n",
    "When `y` is a vector, \n",
    "the most natural representation \n",
    "of the derivative of  `y`\n",
    "with respect to a vector `x` \n",
    "is a matrix called the *Jacobian*\n",
    "that contains the partial derivatives\n",
    "of each component of `y` \n",
    "with respect to each component of `x`.\n",
    "Likewise, for higher-order `y` and `x`,\n",
    "the result of differentiation could be an even higher-order tensor.\n",
    "\n",
    "While Jacobians do show up in some\n",
    "advanced machine learning techniques,\n",
    "more commonly we want to sum up \n",
    "the gradients of each component of `y`\n",
    "with respect to the full vector `x`,\n",
    "yielding a vector of the same shape as `x`.\n",
    "For example, we often have a vector \n",
    "representing the value of our loss function\n",
    "calculated separately for each example among\n",
    "a *batch* of training examples.\n",
    "Here, we just want to (**sum up the gradients\n",
    "computed individually for each example**).\n"
   ]
  },
  {
   "cell_type": "markdown",
   "id": "8a79cb61",
   "metadata": {
    "origin_pos": 42,
    "tab": [
     "pytorch"
    ]
   },
   "source": [
    "Because deep learning frameworks vary \n",
    "in how they interpret gradients of\n",
    "non-scalar tensors,\n",
    "PyTorch takes some steps to avoid confusion.\n",
    "Invoking `backward` on a non-scalar elicits an error \n",
    "unless we tell PyTorch how to reduce the object to a scalar. \n",
    "More formally, we need to provide some vector $\\mathbf{v}$ \n",
    "such that `backward` will compute \n",
    "$\\mathbf{v}^\\top \\partial_{\\mathbf{x}} \\mathbf{y}$ \n",
    "rather than $\\partial_{\\mathbf{x}} \\mathbf{y}$. \n",
    "This next part may be confusing,\n",
    "but for reasons that will become clear later, \n",
    "this argument (representing $\\mathbf{v}$) is named `gradient`. \n",
    "For a more detailed description, see Yang Zhang's \n",
    "[Medium post](https://zhang-yang.medium.com/the-gradient-argument-in-pytorchs-backward-function-explained-by-examples-68f266950c29).\n"
   ]
  },
  {
   "cell_type": "code",
   "execution_count": 8,
   "id": "488e15c2",
   "metadata": {
    "origin_pos": 45,
    "tab": [
     "pytorch"
    ]
   },
   "outputs": [
    {
     "data": {
      "text/plain": [
       "tensor([0., 2., 4., 6.])"
      ]
     },
     "execution_count": 8,
     "metadata": {},
     "output_type": "execute_result"
    }
   ],
   "source": [
    "x.grad.zero_()\n",
    "y = x * x\n",
    "y.backward(gradient=torch.ones(len(y)))  # Faster: y.sum().backward()\n",
    "x.grad"
   ]
  },
  {
   "cell_type": "markdown",
   "id": "81000293",
   "metadata": {
    "origin_pos": 48
   },
   "source": [
    "## Detaching Computation\n",
    "\n",
    "Sometimes, we wish to [**move some calculations\n",
    "outside of the recorded computational graph.**]\n",
    "For example, say that we use the input \n",
    "to create some auxiliary intermediate terms \n",
    "for which we do not want to compute a gradient. \n",
    "In this case, we need to *detach* \n",
    "the respective computational graph\n",
    "from the final result. \n",
    "The following toy example makes this clearer: \n",
    "suppose we have `z = x * y` and `y = x * x` \n",
    "but we want to focus on the *direct* influence of `x` on `z` \n",
    "rather than the influence conveyed via `y`. \n",
    "In this case, we can create a new variable `u`\n",
    "that takes the same value as `y` \n",
    "but whose *provenance* (how it was created)\n",
    "has been wiped out.\n",
    "Thus `u` has no ancestors in the graph\n",
    "and gradients do not flow through `u` to `x`.\n",
    "For example, taking the gradient of `z = x * u`\n",
    "will yield the result `u`,\n",
    "(not `3 * x * x` as you might have \n",
    "expected since `z = x * x * x`).\n"
   ]
  },
  {
   "cell_type": "code",
   "execution_count": 9,
   "id": "d4b0e5ad",
   "metadata": {
    "attributes": {
     "classes": [],
     "id": "",
     "n": "21"
    },
    "origin_pos": 50,
    "tab": [
     "pytorch"
    ]
   },
   "outputs": [
    {
     "data": {
      "text/plain": [
       "tensor([True, True, True, True])"
      ]
     },
     "execution_count": 9,
     "metadata": {},
     "output_type": "execute_result"
    }
   ],
   "source": [
    "x.grad.zero_()\n",
    "y = x * x\n",
    "u = y.detach()\n",
    "z = u * x\n",
    "\n",
    "z.sum().backward()\n",
    "x.grad == u"
   ]
  },
  {
   "cell_type": "markdown",
   "id": "b65a8449",
   "metadata": {
    "origin_pos": 53
   },
   "source": [
    "Note that while this procedure\n",
    "detaches `y`'s ancestors\n",
    "from the graph leading to `z`, \n",
    "the computational graph leading to `y` \n",
    "persists and thus we can calculate\n",
    "the gradient of `y` with respect to `x`.\n"
   ]
  },
  {
   "cell_type": "code",
   "execution_count": 10,
   "id": "45c0f7a9",
   "metadata": {
    "origin_pos": 55,
    "tab": [
     "pytorch"
    ]
   },
   "outputs": [
    {
     "data": {
      "text/plain": [
       "tensor([True, True, True, True])"
      ]
     },
     "execution_count": 10,
     "metadata": {},
     "output_type": "execute_result"
    }
   ],
   "source": [
    "x.grad.zero_()\n",
    "y.sum().backward()\n",
    "x.grad == 2 * x"
   ]
  },
  {
   "cell_type": "markdown",
   "id": "692bfca5",
   "metadata": {
    "origin_pos": 58
   },
   "source": [
    "## Gradients and Python Control Flow\n",
    "\n",
    "So far we reviewed cases where the path from input to output \n",
    "was well defined via a function such as `z = x * x * x`.\n",
    "Programming offers us a lot more freedom in how we compute results. \n",
    "For instance, we can make them depend on auxiliary variables \n",
    "or condition choices on intermediate results. \n",
    "One benefit of using automatic differentiation\n",
    "is that [**even if**] building the computational graph of \n",
    "(**a function required passing through a maze of Python control flow**)\n",
    "(e.g., conditionals, loops, and arbitrary function calls),\n",
    "(**we can still calculate the gradient of the resulting variable.**)\n",
    "To illustrate this, consider the following code snippet where \n",
    "the number of iterations of the `while` loop\n",
    "and the evaluation of the `if` statement\n",
    "both depend on the value of the input `a`.\n"
   ]
  },
  {
   "cell_type": "code",
   "execution_count": 11,
   "id": "cb465a0f",
   "metadata": {
    "origin_pos": 60,
    "tab": [
     "pytorch"
    ]
   },
   "outputs": [],
   "source": [
    "def f(a):\n",
    "    b = a * 2\n",
    "    while b.norm() < 1000:\n",
    "        b = b * 2\n",
    "    if b.sum() > 0:\n",
    "        c = b\n",
    "    else:\n",
    "        c = 100 * b\n",
    "    return c"
   ]
  },
  {
   "cell_type": "markdown",
   "id": "de88a3b5",
   "metadata": {
    "origin_pos": 63
   },
   "source": [
    "Below, we call this function, passing in a random value, as input.\n",
    "Since the input is a random variable, \n",
    "we do not know what form \n",
    "the computational graph will take.\n",
    "However, whenever we execute `f(a)` \n",
    "on a specific input, we realize \n",
    "a specific computational graph\n",
    "and can subsequently run `backward`.\n"
   ]
  },
  {
   "cell_type": "code",
   "execution_count": 12,
   "id": "697febda",
   "metadata": {
    "origin_pos": 65,
    "tab": [
     "pytorch"
    ]
   },
   "outputs": [],
   "source": [
    "a = torch.randn(size=(), requires_grad=True)\n",
    "d = f(a)\n",
    "d.backward()"
   ]
  },
  {
   "cell_type": "markdown",
   "id": "c73c7b9b",
   "metadata": {
    "origin_pos": 68
   },
   "source": [
    "Even though our function `f` is, for demonstration purposes, a bit contrived,\n",
    "its dependence on the input is quite simple: \n",
    "it is a *linear* function of `a` \n",
    "with piecewise defined scale. \n",
    "As such, `f(a) / a` is a vector of constant entries \n",
    "and, moreover, `f(a) / a` needs to match \n",
    "the gradient of `f(a)` with respect to `a`.\n"
   ]
  },
  {
   "cell_type": "code",
   "execution_count": 13,
   "id": "63a941fe",
   "metadata": {
    "origin_pos": 70,
    "tab": [
     "pytorch"
    ]
   },
   "outputs": [
    {
     "data": {
      "text/plain": [
       "tensor(True)"
      ]
     },
     "execution_count": 13,
     "metadata": {},
     "output_type": "execute_result"
    }
   ],
   "source": [
    "a.grad == d / a"
   ]
  },
  {
   "cell_type": "code",
   "execution_count": 19,
   "id": "fa8f88d4-6e98-4e06-9560-e7b938b5fabd",
   "metadata": {},
   "outputs": [],
   "source": [
    "a = torch.arange(5, dtype=float)"
   ]
  },
  {
   "cell_type": "code",
   "execution_count": 20,
   "id": "694b302a-02f5-4d56-bc09-4b27d8a40a55",
   "metadata": {},
   "outputs": [
    {
     "data": {
      "text/plain": [
       "tensor([   0.,  256.,  512.,  768., 1024.], dtype=torch.float64)"
      ]
     },
     "execution_count": 20,
     "metadata": {},
     "output_type": "execute_result"
    }
   ],
   "source": [
    "d = f(a)\n",
    "d"
   ]
  },
  {
   "cell_type": "code",
   "execution_count": 21,
   "id": "41005a12-9800-4d0f-8777-1d03ce3da41e",
   "metadata": {},
   "outputs": [
    {
     "ename": "RuntimeError",
     "evalue": "element 0 of tensors does not require grad and does not have a grad_fn",
     "output_type": "error",
     "traceback": [
      "\u001b[1;31m---------------------------------------------------------------------------\u001b[0m",
      "\u001b[1;31mRuntimeError\u001b[0m                              Traceback (most recent call last)",
      "Cell \u001b[1;32mIn[21], line 1\u001b[0m\n\u001b[1;32m----> 1\u001b[0m \u001b[43md\u001b[49m\u001b[38;5;241;43m.\u001b[39;49m\u001b[43mbackward\u001b[49m\u001b[43m(\u001b[49m\u001b[43m)\u001b[49m\n",
      "File \u001b[1;32m~\\AppData\\Local\\Programs\\Python\\Python311\\Lib\\site-packages\\torch\\_tensor.py:487\u001b[0m, in \u001b[0;36mTensor.backward\u001b[1;34m(self, gradient, retain_graph, create_graph, inputs)\u001b[0m\n\u001b[0;32m    477\u001b[0m \u001b[38;5;28;01mif\u001b[39;00m has_torch_function_unary(\u001b[38;5;28mself\u001b[39m):\n\u001b[0;32m    478\u001b[0m     \u001b[38;5;28;01mreturn\u001b[39;00m handle_torch_function(\n\u001b[0;32m    479\u001b[0m         Tensor\u001b[38;5;241m.\u001b[39mbackward,\n\u001b[0;32m    480\u001b[0m         (\u001b[38;5;28mself\u001b[39m,),\n\u001b[1;32m   (...)\u001b[0m\n\u001b[0;32m    485\u001b[0m         inputs\u001b[38;5;241m=\u001b[39minputs,\n\u001b[0;32m    486\u001b[0m     )\n\u001b[1;32m--> 487\u001b[0m \u001b[43mtorch\u001b[49m\u001b[38;5;241;43m.\u001b[39;49m\u001b[43mautograd\u001b[49m\u001b[38;5;241;43m.\u001b[39;49m\u001b[43mbackward\u001b[49m\u001b[43m(\u001b[49m\n\u001b[0;32m    488\u001b[0m \u001b[43m    \u001b[49m\u001b[38;5;28;43mself\u001b[39;49m\u001b[43m,\u001b[49m\u001b[43m \u001b[49m\u001b[43mgradient\u001b[49m\u001b[43m,\u001b[49m\u001b[43m \u001b[49m\u001b[43mretain_graph\u001b[49m\u001b[43m,\u001b[49m\u001b[43m \u001b[49m\u001b[43mcreate_graph\u001b[49m\u001b[43m,\u001b[49m\u001b[43m \u001b[49m\u001b[43minputs\u001b[49m\u001b[38;5;241;43m=\u001b[39;49m\u001b[43minputs\u001b[49m\n\u001b[0;32m    489\u001b[0m \u001b[43m\u001b[49m\u001b[43m)\u001b[49m\n",
      "File \u001b[1;32m~\\AppData\\Local\\Programs\\Python\\Python311\\Lib\\site-packages\\torch\\autograd\\__init__.py:200\u001b[0m, in \u001b[0;36mbackward\u001b[1;34m(tensors, grad_tensors, retain_graph, create_graph, grad_variables, inputs)\u001b[0m\n\u001b[0;32m    195\u001b[0m     retain_graph \u001b[38;5;241m=\u001b[39m create_graph\n\u001b[0;32m    197\u001b[0m \u001b[38;5;66;03m# The reason we repeat same the comment below is that\u001b[39;00m\n\u001b[0;32m    198\u001b[0m \u001b[38;5;66;03m# some Python versions print out the first line of a multi-line function\u001b[39;00m\n\u001b[0;32m    199\u001b[0m \u001b[38;5;66;03m# calls in the traceback and some print out the last line\u001b[39;00m\n\u001b[1;32m--> 200\u001b[0m \u001b[43mVariable\u001b[49m\u001b[38;5;241;43m.\u001b[39;49m\u001b[43m_execution_engine\u001b[49m\u001b[38;5;241;43m.\u001b[39;49m\u001b[43mrun_backward\u001b[49m\u001b[43m(\u001b[49m\u001b[43m  \u001b[49m\u001b[38;5;66;43;03m# Calls into the C++ engine to run the backward pass\u001b[39;49;00m\n\u001b[0;32m    201\u001b[0m \u001b[43m    \u001b[49m\u001b[43mtensors\u001b[49m\u001b[43m,\u001b[49m\u001b[43m \u001b[49m\u001b[43mgrad_tensors_\u001b[49m\u001b[43m,\u001b[49m\u001b[43m \u001b[49m\u001b[43mretain_graph\u001b[49m\u001b[43m,\u001b[49m\u001b[43m \u001b[49m\u001b[43mcreate_graph\u001b[49m\u001b[43m,\u001b[49m\u001b[43m \u001b[49m\u001b[43minputs\u001b[49m\u001b[43m,\u001b[49m\n\u001b[0;32m    202\u001b[0m \u001b[43m    \u001b[49m\u001b[43mallow_unreachable\u001b[49m\u001b[38;5;241;43m=\u001b[39;49m\u001b[38;5;28;43;01mTrue\u001b[39;49;00m\u001b[43m,\u001b[49m\u001b[43m \u001b[49m\u001b[43maccumulate_grad\u001b[49m\u001b[38;5;241;43m=\u001b[39;49m\u001b[38;5;28;43;01mTrue\u001b[39;49;00m\u001b[43m)\u001b[49m\n",
      "\u001b[1;31mRuntimeError\u001b[0m: element 0 of tensors does not require grad and does not have a grad_fn"
     ]
    }
   ],
   "source": [
    "d.backward()"
   ]
  },
  {
   "cell_type": "markdown",
   "id": "1bdc23c5",
   "metadata": {
    "origin_pos": 73
   },
   "source": [
    "Dynamic control flow is very common in deep learning. \n",
    "For instance, when processing text, the computational graph\n",
    "depends on the length of the input. \n",
    "In these cases, automatic differentiation \n",
    "becomes vital for statistical modeling \n",
    "since it is impossible to compute the gradient *a priori*. \n",
    "\n",
    "## Discussion\n",
    "\n",
    "You have now gotten a taste of the power of automatic differentiation. \n",
    "The development of libraries for calculating derivatives\n",
    "both automatically and efficiently \n",
    "has been a massive productivity booster\n",
    "for deep learning practitioners,\n",
    "liberating them so they can focus on less menial.\n",
    "Moreover, autograd lets us design massive models\n",
    "for which pen and paper gradient computations \n",
    "would be prohibitively time consuming.\n",
    "Interestingly, while we use autograd to *optimize* models\n",
    "(in a statistical sense)\n",
    "the *optimization* of autograd libraries themselves\n",
    "(in a computational sense)\n",
    "is a rich subject\n",
    "of vital interest to framework designers.\n",
    "Here, tools from compilers and graph manipulation \n",
    "are leveraged to compute results \n",
    "in the most expedient and memory-efficient manner. \n",
    "\n",
    "For now, try to remember these basics: (i) attach gradients to those variables with respect to which we desire derivatives; (ii) record the computation of the target value; (iii) execute the backpropagation function; and  (iv) access the resulting gradient.\n",
    "\n",
    "\n",
    "## Exercises\n",
    "\n",
    "1. Why is the second derivative much more expensive to compute than the first derivative?\n",
    "1. After running the function for backpropagation, immediately run it again and see what happens. Investigate.\n",
    "1. In the control flow example where we calculate the derivative of `d` with respect to `a`, what would happen if we changed the variable `a` to a random vector or a matrix? At this point, the result of the calculation `f(a)` is no longer a scalar. What happens to the result? How do we analyze this?\n",
    "1. Let $f(x) = \\sin(x)$. Plot the graph of $f$ and of its derivative $f'$. Do not exploit the fact that $f'(x) = \\cos(x)$ but rather use automatic differentiation to get the result. \n",
    "1. Let $f(x) = ((\\log x^2) \\cdot \\sin x) + x^{-1}$. Write out a dependency graph tracing results from $x$ to $f(x)$. \n",
    "1. Use the chain rule to compute the derivative $\\frac{df}{dx}$ of the aforementioned function, placing each term on the dependency graph that you constructed previously. \n",
    "1. Given the graph and the intermediate derivative results, you have a number of options when computing the gradient. Evaluate the result once starting from $x$ to $f$ and once from $f$ tracing back to $x$. The path from $x$ to $f$ is commonly known as *forward differentiation*, whereas the path from $f$ to $x$ is known as backward differentiation. \n",
    "1. When might you want to use forward, and when backward, differentiation? Hint: consider the amount of intermediate data needed, the ability to parallelize steps, and the size of matrices and vectors involved.\n"
   ]
  },
  {
   "cell_type": "markdown",
   "id": "0607b289",
   "metadata": {
    "origin_pos": 75,
    "tab": [
     "pytorch"
    ]
   },
   "source": [
    "[Discussions](https://discuss.d2l.ai/t/35)\n"
   ]
  },
  {
   "cell_type": "markdown",
   "id": "8b4edafb-8b8e-4720-a9da-670d51262375",
   "metadata": {},
   "source": [
    "#### 1. Why is the second derivative much more expensive to compute than the first derivative?\r\n",
    "\r\n",
    "##### Answeis:\r\n",
    "\r\n",
    "Computing the second derivative is much more expensive than the first derivative for several reasons:\r\n",
    "\r\n",
    "1. **Computational complexity**: The second derivative requires differentiating the first derivative, essentially doubling the computational work. If the first derivative has complexity O(n), the second derivative will typically have complexity O(n²).\r\n",
    "\r\n",
    "2. **Memory requirements with automatic differentiation**: In automatic differentiation (autograd) systems:\r\n",
    "   - For first derivatives, the system needs to store the computational graph and intermediate values from the forward pass.\r\n",
    "   - For second derivatives, the system needs to build and store a new computational graph for the gradient of the gradient, leading to much higher memory requirements.\r\n",
    "\r\n",
    "3. **Implementation specifics**: As the answer mentions, autograd typically only stores values on leaf nodes and the previous computation. When computing second derivatives, this means:\r\n",
    "   - The first backward pass creates new operations and nodes\r\n",
    "   - A second backward pass requires building another graph on top of these new operations\r\n",
    "   - This creates a nested differentiation structure that is inherently more complex\r\n",
    "\r\n",
    "4. **Interdependencies**: Second derivatives often involve mixed partial derivatives with many interdependencies, increasing both computational and memory costs.\r\n",
    "\r\n",
    "For these reasons, methods like Hessian-vector products or approximation techniques are often used when second derivatives are needed for large-scale problems."
   ]
  },
  {
   "cell_type": "markdown",
   "id": "5d9fa2ab-80da-45c9-beea-f0db2c018ec3",
   "metadata": {},
   "source": [
    "#### 2. After running the function for backpropagation, immediately run it again and see what happens. Investigate.\r\n",
    "\r\n",
    "##### Answers.\r\n",
    "\r\n",
    "When we run backpropagation twice without clearing the gradients in between:\r\n",
    "\r\n",
    "1. **Gradient accumulation**: PyTorch (and most autograd systems) accumulates gradients by default rather than overwriting them. This means that running backpropagation a second time will add to the existing gradients rather than replacing them.\r\n",
    "\r\n",
    "2. **Doubled values**: As noted in the answer, running backpropagation twice will indeed cause gradient values to double (assuming the same computational graph). This happens because:\r\n",
    "   - The first backward pass computes and stores gradient values\r\n",
    "   - The second backward pass computes the same gradient values again and adds them to the existing ones\r\n",
    "   - The result is exactly twice the original gradients\r\n",
    "\r\n",
    "3. **Why this happens**: This behavior is by design to support:\r\n",
    "   - Accumulated gradients across multiple batches\r\n",
    "   - Custom gradient computation schemes\r\n",
    "   - Distributed training scenarios\r\n",
    "\r\n",
    "4. **Best practice**: To avoid this behavior when not intended:\r\n",
    "   - Call `optimizer.zero_grad()` or `model.zero_grad()` before each backpropagation step\r\n",
    "   - This clears the gradient buffers and ensures fresh gradient computation\r\n",
    "\r\n",
    "This behavior can be a common source of bugs in deep learning code if not properly managed."
   ]
  },
  {
   "cell_type": "markdown",
   "id": "baca33af-fd2b-497a-a483-e7c2291687b8",
   "metadata": {},
   "source": [
    "#### 3. In the control flow example where we calculate the derivative of `d` with respect to `a`, what would happen if we changed the variable `a` to a random vector or a matrix? At this point, the result of the calculation `f(a)` is no longer a scalar. What happens to the result? How do we analyze this?\n",
    "\n",
    "\r\n",
    "##### Answer \r\n",
    "\r\n",
    "When we change the input variable `a` from a scalar to a vector or matrix in the given control flow example, several important changes occur:\r\n",
    "\r\n",
    "1. The function execution itself would still work, as PyTorch operations like multiplication, norm calculation, and summation are all compatible with tensors of various dimensions. All operations would be performed element-wise or following tensor operation rules.\r\n",
    "\r\n",
    "2. The output `d = f(a)` would now be a tensor with the same shape as the input `a` rather than a scalar.\r\n",
    "\r\n",
    "3. The main issue arises with the backward pass. In PyTorch, calling `d.backward()` without arguments expects `d` to be a scalar. When `d` is a non-scalar tensor, this would raise an error because PyTorch doesn't know how to compute gradients with respect to multiple output elements.\r\n",
    "\r\n",
    "To handle this situation, we have several options:\r\n",
    "\r\n",
    "- Apply a reduction operation to convert the output to a scalar:\r\n",
    "  ```python\r\n",
    "  d = f(a)\r\n",
    "  d.sum().backward()  # Sum of all elements\r\n",
    "  # OR\r\n",
    "  d.mean().backward()  # Mean of all elements\r\n",
    "  ```\r\n",
    "\r\n",
    "- Explicitly provide a gradient tensor of the same shape as the output:\r\n",
    "  ```python\r\n",
    "  d = f(a)\r\n",
    "  gradient = torch.ones_like(d)  # Could be any values\r\n",
    "  d.backward(gradient)\r\n",
    "  ```\r\n",
    "\r\n",
    "- Compute element-wise gradients individually:\r\n",
    "  ```python\r\n",
    "  for i in range(d.numel()):\r\n",
    "      a.grad = None  # Reset gradients\r\n",
    "      grad_tensor = torch.zeros_like(d)\r\n",
    "      grad_tensor.view(-1)[i] = 1\r\n",
    "      d.backward(grad_tensor, retain_graph=True)\r\n",
    "      # Process a.grad here\r\n",
    "  ```\r\n",
    "\r\n",
    "From a mathematical perspective, when `d` is a tensor and `a` is a tensor, computing the gradient creates a Jacobian tensor. For example, if `a` has shape [a₁, a₂, ..., aₘ] and `d` has shape [d₁, d₂, ..., dₙ], the complete Jacobian would have shape [d₁, d₂, ..., dₙ, a₁, a₂, ..., aₘ]. Since PyTorch's automatic differentiation is primarily designed for scalar outputs, we need these workarounds to handle vector/matrix outputs properly."
   ]
  },
  {
   "cell_type": "markdown",
   "id": "292f934a-8968-4923-8b8e-5ecbacad2277",
   "metadata": {},
   "source": [
    "#### 4. Let $f(x) = \\sin(x)$. Plot the graph of $f$ and of its derivative $f'$. Do not exploit the fact that $f'(x) = \\cos(x)$ but rather use automatic differentiation to get the result. \n",
    "\n",
    "##### Answer "
   ]
  },
  {
   "cell_type": "code",
   "execution_count": 30,
   "id": "0f8dd3f7-2287-4f2e-9d7d-affc677a64fe",
   "metadata": {},
   "outputs": [
    {
     "ename": "TypeError",
     "evalue": "'NoneType' object is not callable",
     "output_type": "error",
     "traceback": [
      "\u001b[1;31m---------------------------------------------------------------------------\u001b[0m",
      "\u001b[1;31mTypeError\u001b[0m                                 Traceback (most recent call last)",
      "Cell \u001b[1;32mIn[30], line 6\u001b[0m\n\u001b[0;32m      4\u001b[0m x \u001b[38;5;241m=\u001b[39m torch\u001b[38;5;241m.\u001b[39marange(\u001b[38;5;241m0\u001b[39m,\u001b[38;5;241m4\u001b[39m\u001b[38;5;241m*\u001b[39mnp\u001b[38;5;241m.\u001b[39mpi,\u001b[38;5;241m0.1\u001b[39m)\n\u001b[0;32m      5\u001b[0m y \u001b[38;5;241m=\u001b[39m torch\u001b[38;5;241m.\u001b[39msin(x)\n\u001b[1;32m----> 6\u001b[0m y_d \u001b[38;5;241m=\u001b[39m \u001b[43my\u001b[49m\u001b[38;5;241;43m.\u001b[39;49m\u001b[43mgrad\u001b[49m\u001b[43m(\u001b[49m\u001b[43m)\u001b[49m\n\u001b[0;32m      8\u001b[0m plt\u001b[38;5;241m.\u001b[39mplot(x,y_d)\n\u001b[0;32m      9\u001b[0m plt\u001b[38;5;241m.\u001b[39mshow()\n",
      "\u001b[1;31mTypeError\u001b[0m: 'NoneType' object is not callable"
     ]
    }
   ],
   "source": [
    "import matplotlib.pyplot as plt\n",
    "import numpy as np\n",
    "\n",
    "x = torch.arange(0,4*np.pi,0.1)\n",
    "y = torch.sin(x)\n",
    "y_d = y.grad()\n",
    "\n",
    "plt.plot(x,y_d)\n",
    "plt.show()"
   ]
  },
  {
   "cell_type": "markdown",
   "id": "ab6accf3-d0fb-4bfa-90ca-b9a536042092",
   "metadata": {},
   "source": [
    "#### 5. Let $f(x) = ((\\log x^2) \\cdot \\sin x) + x^{-1}$. Write out a dependency graph tracing results from $x$ to $f(x)$. \n",
    "\n",
    "##### Answer "
   ]
  },
  {
   "cell_type": "markdown",
   "id": "9bbd672d-7064-4a17-8a2c-152f3e10d581",
   "metadata": {},
   "source": [
    "#### 6. Use the chain rule to compute the derivative $\\frac{df}{dx}$ of the aforementioned function, placing each term on the dependency graph that you constructed previously. \n",
    "\n",
    "##### Answer "
   ]
  },
  {
   "cell_type": "markdown",
   "id": "d0d29392-d3d6-46a4-ba65-6ea5a39e8a56",
   "metadata": {},
   "source": [
    "#### 7. Given the graph and the intermediate derivative results, you have a number of options when computing the gradient. Evaluate the result once starting from $x$ to $f$ and once from $f$ tracing back to $x$. The path from $x$ to $f$ is commonly known as *forward differentiation*, whereas the path from $f$ to $x$ is known as backward differentiation. \n",
    "\n",
    "##### Answer "
   ]
  },
  {
   "cell_type": "markdown",
   "id": "9ce0f96a-4712-452d-a02f-9fde9063b07e",
   "metadata": {},
   "source": [
    "#### 8. When might you want to use forward, and when backward, differentiation? Hint: consider the amount of intermediate data needed, the ability to parallelize steps, and the size of matrices and vectors involved.\n",
    "\n",
    "##### Answer"
   ]
  }
 ],
 "metadata": {
  "kernelspec": {
   "display_name": "Python 3 (ipykernel)",
   "language": "python",
   "name": "python3"
  },
  "language_info": {
   "codemirror_mode": {
    "name": "ipython",
    "version": 3
   },
   "file_extension": ".py",
   "mimetype": "text/x-python",
   "name": "python",
   "nbconvert_exporter": "python",
   "pygments_lexer": "ipython3",
   "version": "3.11.4"
  },
  "required_libs": []
 },
 "nbformat": 4,
 "nbformat_minor": 5
}
